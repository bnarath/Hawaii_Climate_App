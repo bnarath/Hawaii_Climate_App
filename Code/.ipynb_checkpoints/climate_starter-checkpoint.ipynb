{
 "cells": [
  {
   "cell_type": "markdown",
   "metadata": {},
   "source": [
    "## Dependencies"
   ]
  },
  {
   "cell_type": "code",
   "execution_count": 56,
   "metadata": {},
   "outputs": [],
   "source": [
    "%matplotlib inline\n",
    "from matplotlib import style\n",
    "style.use('fivethirtyeight')\n",
    "import matplotlib.pyplot as plt\n",
    "import numpy as np\n",
    "import pandas as pd\n",
    "import datetime as dt\n",
    "\n",
    "# Python SQL toolkit and Object Relational Mapper\n",
    "import sqlalchemy\n",
    "from sqlalchemy import create_engine, func, inspect\n",
    "from sqlalchemy.ext.automap import automap_base\n",
    "from sqlalchemy.orm import Session\n",
    "\n",
    "#To display all outputs in the cell\n",
    "from IPython.core.interactiveshell import InteractiveShell\n",
    "InteractiveShell.ast_node_interactivity = 'all'\n"
   ]
  },
  {
   "cell_type": "markdown",
   "metadata": {},
   "source": [
    "# Reflect Tables into SQLAlchemy ORM"
   ]
  },
  {
   "cell_type": "code",
   "execution_count": 57,
   "metadata": {},
   "outputs": [],
   "source": [
    "#Create an engine to the hawaii.sqlite database\n",
    "engine = create_engine(\"sqlite:///../Resources/hawaii.sqlite\", echo=True) \n",
    "\n",
    "###############################################################\n",
    "#ONLY FOR THE UOT EVALUATOR                                   #\n",
    "#PLEASE NOTE THAT I CHANGED THE EXISTING DIRECTORY STRUCTURE  #\n",
    "#A BIT TO MATCH MY USUAL GITHUB DIRECTORY STRUCTURE           #\n",
    "#If you are using the one in gitlab, please use               #\n",
    "#engine = create_engine(\"sqlite:///Resources/hawaii.sqlite\")  #\n",
    "###############################################################\n",
    "\n",
    "#To view the sqlite table info\n",
    "#engine.execute('SELECT * FROM sqlite_master').fetchall()\n",
    "#'measurement' and 'station'"
   ]
  },
  {
   "cell_type": "code",
   "execution_count": 58,
   "metadata": {},
   "outputs": [
    {
     "name": "stdout",
     "output_type": "stream",
     "text": [
      "2020-07-20 13:26:09,981 INFO sqlalchemy.engine.base.Engine SELECT CAST('test plain returns' AS VARCHAR(60)) AS anon_1\n",
      "2020-07-20 13:26:09,983 INFO sqlalchemy.engine.base.Engine ()\n",
      "2020-07-20 13:26:09,987 INFO sqlalchemy.engine.base.Engine SELECT CAST('test unicode returns' AS VARCHAR(60)) AS anon_1\n",
      "2020-07-20 13:26:09,988 INFO sqlalchemy.engine.base.Engine ()\n"
     ]
    }
   ],
   "source": [
    "#Create an inspector and for engine (Not necessary, but, I prefer to view cleaner outputs for understanding metadata)\n",
    "Inspector = inspect(engine)"
   ]
  },
  {
   "cell_type": "code",
   "execution_count": 59,
   "metadata": {},
   "outputs": [
    {
     "name": "stdout",
     "output_type": "stream",
     "text": [
      "2020-07-20 13:26:10,648 INFO sqlalchemy.engine.base.Engine SELECT name FROM sqlite_master WHERE type='table' ORDER BY name\n",
      "2020-07-20 13:26:10,652 INFO sqlalchemy.engine.base.Engine ()\n",
      "2020-07-20 13:26:10,655 INFO sqlalchemy.engine.base.Engine PRAGMA main.table_info(\"measurement\")\n",
      "2020-07-20 13:26:10,656 INFO sqlalchemy.engine.base.Engine ()\n",
      "2020-07-20 13:26:10,660 INFO sqlalchemy.engine.base.Engine SELECT sql FROM  (SELECT * FROM sqlite_master UNION ALL   SELECT * FROM sqlite_temp_master) WHERE name = 'measurement' AND type = 'table'\n",
      "2020-07-20 13:26:10,662 INFO sqlalchemy.engine.base.Engine ()\n",
      "2020-07-20 13:26:10,664 INFO sqlalchemy.engine.base.Engine PRAGMA main.foreign_key_list(\"measurement\")\n",
      "2020-07-20 13:26:10,665 INFO sqlalchemy.engine.base.Engine ()\n",
      "2020-07-20 13:26:10,667 INFO sqlalchemy.engine.base.Engine PRAGMA temp.foreign_key_list(\"measurement\")\n",
      "2020-07-20 13:26:10,668 INFO sqlalchemy.engine.base.Engine ()\n",
      "2020-07-20 13:26:10,670 INFO sqlalchemy.engine.base.Engine SELECT sql FROM  (SELECT * FROM sqlite_master UNION ALL   SELECT * FROM sqlite_temp_master) WHERE name = 'measurement' AND type = 'table'\n",
      "2020-07-20 13:26:10,671 INFO sqlalchemy.engine.base.Engine ()\n",
      "2020-07-20 13:26:10,673 INFO sqlalchemy.engine.base.Engine PRAGMA main.index_list(\"measurement\")\n",
      "2020-07-20 13:26:10,674 INFO sqlalchemy.engine.base.Engine ()\n",
      "2020-07-20 13:26:10,675 INFO sqlalchemy.engine.base.Engine PRAGMA temp.index_list(\"measurement\")\n",
      "2020-07-20 13:26:10,683 INFO sqlalchemy.engine.base.Engine ()\n",
      "2020-07-20 13:26:10,693 INFO sqlalchemy.engine.base.Engine PRAGMA main.index_list(\"measurement\")\n",
      "2020-07-20 13:26:10,698 INFO sqlalchemy.engine.base.Engine ()\n",
      "2020-07-20 13:26:10,707 INFO sqlalchemy.engine.base.Engine PRAGMA temp.index_list(\"measurement\")\n",
      "2020-07-20 13:26:10,720 INFO sqlalchemy.engine.base.Engine ()\n",
      "2020-07-20 13:26:10,728 INFO sqlalchemy.engine.base.Engine SELECT sql FROM  (SELECT * FROM sqlite_master UNION ALL   SELECT * FROM sqlite_temp_master) WHERE name = 'measurement' AND type = 'table'\n",
      "2020-07-20 13:26:10,740 INFO sqlalchemy.engine.base.Engine ()\n",
      "2020-07-20 13:26:10,748 INFO sqlalchemy.engine.base.Engine PRAGMA main.table_info(\"station\")\n",
      "2020-07-20 13:26:10,759 INFO sqlalchemy.engine.base.Engine ()\n",
      "2020-07-20 13:26:10,768 INFO sqlalchemy.engine.base.Engine SELECT sql FROM  (SELECT * FROM sqlite_master UNION ALL   SELECT * FROM sqlite_temp_master) WHERE name = 'station' AND type = 'table'\n",
      "2020-07-20 13:26:10,778 INFO sqlalchemy.engine.base.Engine ()\n",
      "2020-07-20 13:26:10,790 INFO sqlalchemy.engine.base.Engine PRAGMA main.foreign_key_list(\"station\")\n",
      "2020-07-20 13:26:10,793 INFO sqlalchemy.engine.base.Engine ()\n",
      "2020-07-20 13:26:10,801 INFO sqlalchemy.engine.base.Engine PRAGMA temp.foreign_key_list(\"station\")\n",
      "2020-07-20 13:26:10,805 INFO sqlalchemy.engine.base.Engine ()\n",
      "2020-07-20 13:26:10,810 INFO sqlalchemy.engine.base.Engine SELECT sql FROM  (SELECT * FROM sqlite_master UNION ALL   SELECT * FROM sqlite_temp_master) WHERE name = 'station' AND type = 'table'\n",
      "2020-07-20 13:26:10,817 INFO sqlalchemy.engine.base.Engine ()\n",
      "2020-07-20 13:26:10,821 INFO sqlalchemy.engine.base.Engine PRAGMA main.index_list(\"station\")\n",
      "2020-07-20 13:26:10,824 INFO sqlalchemy.engine.base.Engine ()\n",
      "2020-07-20 13:26:10,826 INFO sqlalchemy.engine.base.Engine PRAGMA temp.index_list(\"station\")\n",
      "2020-07-20 13:26:10,827 INFO sqlalchemy.engine.base.Engine ()\n",
      "2020-07-20 13:26:10,831 INFO sqlalchemy.engine.base.Engine PRAGMA main.index_list(\"station\")\n",
      "2020-07-20 13:26:10,833 INFO sqlalchemy.engine.base.Engine ()\n",
      "2020-07-20 13:26:10,836 INFO sqlalchemy.engine.base.Engine PRAGMA temp.index_list(\"station\")\n",
      "2020-07-20 13:26:10,838 INFO sqlalchemy.engine.base.Engine ()\n",
      "2020-07-20 13:26:10,839 INFO sqlalchemy.engine.base.Engine SELECT sql FROM  (SELECT * FROM sqlite_master UNION ALL   SELECT * FROM sqlite_temp_master) WHERE name = 'station' AND type = 'table'\n",
      "2020-07-20 13:26:10,840 INFO sqlalchemy.engine.base.Engine ()\n",
      "2020-07-20 13:26:10,849 INFO sqlalchemy.engine.base.Engine SELECT name FROM sqlite_master WHERE type='table' ORDER BY name\n",
      "2020-07-20 13:26:10,850 INFO sqlalchemy.engine.base.Engine ()\n",
      "2020-07-20 13:26:10,853 INFO sqlalchemy.engine.base.Engine PRAGMA main.table_info(\"measurement\")\n",
      "2020-07-20 13:26:10,854 INFO sqlalchemy.engine.base.Engine ()\n",
      "2020-07-20 13:26:10,856 INFO sqlalchemy.engine.base.Engine PRAGMA main.table_info(\"station\")\n",
      "2020-07-20 13:26:10,858 INFO sqlalchemy.engine.base.Engine ()\n"
     ]
    },
    {
     "data": {
      "text/plain": [
       "[['Table name : measurement',\n",
       "  'id : INTEGER (primary_key)',\n",
       "  'station : TEXTNone',\n",
       "  'date : TEXTNone',\n",
       "  'prcp : FLOATNone',\n",
       "  'tobs : FLOATNone'],\n",
       " ['Table name : station',\n",
       "  'id : INTEGER (primary_key)',\n",
       "  'station : TEXTNone',\n",
       "  'name : TEXTNone',\n",
       "  'latitude : FLOATNone',\n",
       "  'longitude : FLOATNone',\n",
       "  'elevation : FLOATNone']]"
      ]
     },
     "execution_count": 59,
     "metadata": {},
     "output_type": "execute_result"
    }
   ],
   "source": [
    "# reflect an existing database into a new model\n",
    "Base = automap_base()\n",
    "# reflect the tables\n",
    "Base.prepare(engine, reflect=True)\n",
    "\n",
    "#To display table info\n",
    "#The below commands or the inspector\n",
    "#Base.metadata.tables\n",
    "#'measurement' and 'station'\n",
    "#To display schema for a Class (mapped table)\n",
    "#Base.classes.measurement.__dict__\n",
    "#Base.classes.station.__dict__\n",
    "\n",
    "#To display table info(A cleaner output using inspector)\n",
    "[[f\"Table name : {table}\"]+[f\"{col['name']} : {col['type']}{' (primary_key)' if col['primary_key']==1 else None}\" \\\n",
    "                            for col in Inspector.get_columns(table)] for table in Inspector.get_table_names()]\n",
    "\n"
   ]
  },
  {
   "cell_type": "code",
   "execution_count": 60,
   "metadata": {},
   "outputs": [
    {
     "data": {
      "text/plain": [
       "[mappingproxy({'__table__': Table('measurement', MetaData(bind=None), Column('id', INTEGER(), table=<measurement>, primary_key=True, nullable=False), Column('station', TEXT(), table=<measurement>), Column('date', TEXT(), table=<measurement>), Column('prcp', FLOAT(), table=<measurement>), Column('tobs', FLOAT(), table=<measurement>), schema=None),\n",
       "               '__module__': 'sqlalchemy.ext.automap',\n",
       "               '__doc__': None,\n",
       "               '_sa_class_manager': <ClassManager of <class 'sqlalchemy.ext.automap.measurement'> at 11db7c630>,\n",
       "               '__init__': <function __init__(self, **kwargs)>,\n",
       "               'id': <sqlalchemy.orm.attributes.InstrumentedAttribute at 0x11cccd8b0>,\n",
       "               'station': <sqlalchemy.orm.attributes.InstrumentedAttribute at 0x11cccdd10>,\n",
       "               'date': <sqlalchemy.orm.attributes.InstrumentedAttribute at 0x11dd9e7c0>,\n",
       "               'prcp': <sqlalchemy.orm.attributes.InstrumentedAttribute at 0x11dd9ef90>,\n",
       "               'tobs': <sqlalchemy.orm.attributes.InstrumentedAttribute at 0x11dd9e400>,\n",
       "               '__mapper__': <Mapper at 0x11cca9760; measurement>}),\n",
       " mappingproxy({'__table__': Table('station', MetaData(bind=None), Column('id', INTEGER(), table=<station>, primary_key=True, nullable=False), Column('station', TEXT(), table=<station>), Column('name', TEXT(), table=<station>), Column('latitude', FLOAT(), table=<station>), Column('longitude', FLOAT(), table=<station>), Column('elevation', FLOAT(), table=<station>), schema=None),\n",
       "               '__module__': 'sqlalchemy.ext.automap',\n",
       "               '__doc__': None,\n",
       "               '_sa_class_manager': <ClassManager of <class 'sqlalchemy.ext.automap.station'> at 11d3e4680>,\n",
       "               '__init__': <function __init__(self, **kwargs)>,\n",
       "               'id': <sqlalchemy.orm.attributes.InstrumentedAttribute at 0x11d0fa0e0>,\n",
       "               'station': <sqlalchemy.orm.attributes.InstrumentedAttribute at 0x11d0fa720>,\n",
       "               'name': <sqlalchemy.orm.attributes.InstrumentedAttribute at 0x11d0fa450>,\n",
       "               'latitude': <sqlalchemy.orm.attributes.InstrumentedAttribute at 0x11d0fa040>,\n",
       "               'longitude': <sqlalchemy.orm.attributes.InstrumentedAttribute at 0x11d0fa4a0>,\n",
       "               'elevation': <sqlalchemy.orm.attributes.InstrumentedAttribute at 0x11d36a4f0>,\n",
       "               '__mapper__': <Mapper at 0x11cca99d0; station>})]"
      ]
     },
     "execution_count": 60,
     "metadata": {},
     "output_type": "execute_result"
    }
   ],
   "source": [
    "# We can view all of the classes that automap found\n",
    "[Class.__dict__ for Class in Base.classes]"
   ]
  },
  {
   "cell_type": "code",
   "execution_count": 61,
   "metadata": {},
   "outputs": [],
   "source": [
    "# Save references to each table\n",
    "Measurement = Base.classes.measurement\n",
    "\n",
    "Station = Base.classes.station"
   ]
  },
  {
   "cell_type": "code",
   "execution_count": 62,
   "metadata": {},
   "outputs": [],
   "source": [
    "# Create our session (link) from Python to the DB\n",
    "session = Session(bind=engine)"
   ]
  },
  {
   "cell_type": "markdown",
   "metadata": {},
   "source": [
    "# Exploratory Climate Analysis"
   ]
  },
  {
   "cell_type": "code",
   "execution_count": null,
   "metadata": {},
   "outputs": [],
   "source": [
    "# Design a query to retrieve the last 12 months of precipitation data and plot the results\n",
    "\n",
    "# Calculate the date 1 year ago from the last data point in the database\n",
    "\n",
    "# Perform a query to retrieve the data and precipitation scores\n",
    "\n",
    "# Save the query results as a Pandas DataFrame and set the index to the date column\n",
    "\n",
    "# Sort the dataframe by date\n",
    "\n",
    "# Use Pandas Plotting with Matplotlib to plot the data\n"
   ]
  },
  {
   "cell_type": "code",
   "execution_count": null,
   "metadata": {},
   "outputs": [],
   "source": [
    "# Use Pandas to calcualte the summary statistics for the precipitation data"
   ]
  },
  {
   "cell_type": "code",
   "execution_count": null,
   "metadata": {},
   "outputs": [],
   "source": [
    "# Design a query to show how many stations are available in this dataset?\n"
   ]
  },
  {
   "cell_type": "code",
   "execution_count": null,
   "metadata": {},
   "outputs": [],
   "source": [
    "# What are the most active stations? (i.e. what stations have the most rows)?\n",
    "# List the stations and the counts in descending order.\n"
   ]
  },
  {
   "cell_type": "code",
   "execution_count": null,
   "metadata": {},
   "outputs": [],
   "source": [
    "# Using the station id from the previous query, calculate the lowest temperature recorded, \n",
    "# highest temperature recorded, and average temperature of the most active station?\n"
   ]
  },
  {
   "cell_type": "code",
   "execution_count": null,
   "metadata": {},
   "outputs": [],
   "source": [
    "# Choose the station with the highest number of temperature observations.\n",
    "# Query the last 12 months of temperature observation data for this station and plot the results as a histogram\n"
   ]
  },
  {
   "cell_type": "markdown",
   "metadata": {},
   "source": [
    "## Bonus Challenge Assignment"
   ]
  },
  {
   "cell_type": "code",
   "execution_count": null,
   "metadata": {},
   "outputs": [],
   "source": [
    "# This function called `calc_temps` will accept start date and end date in the format '%Y-%m-%d' \n",
    "# and return the minimum, average, and maximum temperatures for that range of dates\n",
    "def calc_temps(start_date, end_date):\n",
    "    \"\"\"TMIN, TAVG, and TMAX for a list of dates.\n",
    "    \n",
    "    Args:\n",
    "        start_date (string): A date string in the format %Y-%m-%d\n",
    "        end_date (string): A date string in the format %Y-%m-%d\n",
    "        \n",
    "    Returns:\n",
    "        TMIN, TAVE, and TMAX\n",
    "    \"\"\"\n",
    "    \n",
    "    return session.query(func.min(Measurement.tobs), func.avg(Measurement.tobs), func.max(Measurement.tobs)).\\\n",
    "        filter(Measurement.date >= start_date).filter(Measurement.date <= end_date).all()\n",
    "\n",
    "# function usage example\n",
    "print(calc_temps('2012-02-28', '2012-03-05'))"
   ]
  },
  {
   "cell_type": "code",
   "execution_count": null,
   "metadata": {},
   "outputs": [],
   "source": [
    "# Use your previous function `calc_temps` to calculate the tmin, tavg, and tmax \n",
    "# for your trip using the previous year's data for those same dates.\n"
   ]
  },
  {
   "cell_type": "code",
   "execution_count": null,
   "metadata": {},
   "outputs": [],
   "source": [
    "# Plot the results from your previous query as a bar chart. \n",
    "# Use \"Trip Avg Temp\" as your Title\n",
    "# Use the average temperature for the y value\n",
    "# Use the peak-to-peak (tmax-tmin) value as the y error bar (yerr)\n"
   ]
  },
  {
   "cell_type": "code",
   "execution_count": null,
   "metadata": {},
   "outputs": [],
   "source": [
    "# Calculate the total amount of rainfall per weather station for your trip dates using the previous year's matching dates.\n",
    "# Sort this in descending order by precipitation amount and list the station, name, latitude, longitude, and elevation\n",
    "\n"
   ]
  },
  {
   "cell_type": "code",
   "execution_count": null,
   "metadata": {},
   "outputs": [],
   "source": [
    "# Create a query that will calculate the daily normals \n",
    "# (i.e. the averages for tmin, tmax, and tavg for all historic data matching a specific month and day)\n",
    "\n",
    "def daily_normals(date):\n",
    "    \"\"\"Daily Normals.\n",
    "    \n",
    "    Args:\n",
    "        date (str): A date string in the format '%m-%d'\n",
    "        \n",
    "    Returns:\n",
    "        A list of tuples containing the daily normals, tmin, tavg, and tmax\n",
    "    \n",
    "    \"\"\"\n",
    "    \n",
    "    sel = [func.min(Measurement.tobs), func.avg(Measurement.tobs), func.max(Measurement.tobs)]\n",
    "    return session.query(*sel).filter(func.strftime(\"%m-%d\", Measurement.date) == date).all()\n",
    "    \n",
    "daily_normals(\"01-01\")"
   ]
  },
  {
   "cell_type": "code",
   "execution_count": null,
   "metadata": {},
   "outputs": [],
   "source": [
    "# calculate the daily normals for your trip\n",
    "# push each tuple of calculations into a list called `normals`\n",
    "\n",
    "# Set the start and end date of the trip\n",
    "\n",
    "# Use the start and end date to create a range of dates\n",
    "\n",
    "# Stip off the year and save a list of %m-%d strings\n",
    "\n",
    "# Loop through the list of %m-%d strings and calculate the normals for each date\n"
   ]
  },
  {
   "cell_type": "code",
   "execution_count": null,
   "metadata": {},
   "outputs": [],
   "source": [
    "# Load the previous query results into a Pandas DataFrame and add the `trip_dates` range as the `date` index\n"
   ]
  },
  {
   "cell_type": "code",
   "execution_count": null,
   "metadata": {},
   "outputs": [],
   "source": [
    "# Plot the daily normals as an area plot with `stacked=False`\n"
   ]
  }
 ],
 "metadata": {
  "kernel_info": {
   "name": "python3"
  },
  "kernelspec": {
   "display_name": "Python 3",
   "language": "python",
   "name": "python3"
  },
  "language_info": {
   "codemirror_mode": {
    "name": "ipython",
    "version": 3
   },
   "file_extension": ".py",
   "mimetype": "text/x-python",
   "name": "python",
   "nbconvert_exporter": "python",
   "pygments_lexer": "ipython3",
   "version": "3.8.1"
  },
  "nteract": {
   "version": "0.12.3"
  },
  "varInspector": {
   "cols": {
    "lenName": 16,
    "lenType": 16,
    "lenVar": 40
   },
   "kernels_config": {
    "python": {
     "delete_cmd_postfix": "",
     "delete_cmd_prefix": "del ",
     "library": "var_list.py",
     "varRefreshCmd": "print(var_dic_list())"
    },
    "r": {
     "delete_cmd_postfix": ") ",
     "delete_cmd_prefix": "rm(",
     "library": "var_list.r",
     "varRefreshCmd": "cat(var_dic_list()) "
    }
   },
   "types_to_exclude": [
    "module",
    "function",
    "builtin_function_or_method",
    "instance",
    "_Feature"
   ],
   "window_display": false
  }
 },
 "nbformat": 4,
 "nbformat_minor": 2
}
