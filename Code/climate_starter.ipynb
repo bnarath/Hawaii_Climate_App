{
 "cells": [
  {
   "cell_type": "markdown",
   "metadata": {},
   "source": [
    "## Dependencies"
   ]
  },
  {
   "cell_type": "code",
   "execution_count": 56,
   "metadata": {},
   "outputs": [],
   "source": [
    "%matplotlib inline\n",
    "from matplotlib import style\n",
    "style.use('fivethirtyeight')\n",
    "import matplotlib.pyplot as plt\n",
    "import numpy as np\n",
    "import pandas as pd\n",
    "import datetime as dt\n",
    "\n",
    "# Python SQL toolkit and Object Relational Mapper\n",
    "import sqlalchemy\n",
    "from sqlalchemy import create_engine, func, inspect\n",
    "from sqlalchemy.ext.automap import automap_base\n",
    "from sqlalchemy.orm import Session\n",
    "\n",
    "#To display all outputs in the cell\n",
    "from IPython.core.interactiveshell import InteractiveShell\n",
    "InteractiveShell.ast_node_interactivity = 'all'\n"
   ]
  },
  {
   "cell_type": "markdown",
   "metadata": {},
   "source": [
    "# Reflect Tables into SQLAlchemy ORM"
   ]
  },
  {
   "cell_type": "code",
   "execution_count": 57,
   "metadata": {},
   "outputs": [],
   "source": [
    "#Create an engine to the hawaii.sqlite database\n",
    "engine = create_engine(\"sqlite:///../Resources/hawaii.sqlite\", echo=True) \n",
    "\n",
    "###############################################################\n",
    "#ONLY FOR THE UOT EVALUATOR                                   #\n",
    "#PLEASE NOTE THAT I CHANGED THE EXISTING DIRECTORY STRUCTURE  #\n",
    "#A BIT TO MATCH MY USUAL GITHUB DIRECTORY STRUCTURE           #\n",
    "#If you are using the one in gitlab, please use               #\n",
    "#engine = create_engine(\"sqlite:///Resources/hawaii.sqlite\")  #\n",
    "###############################################################\n",
    "\n",
    "#To view the sqlite table info\n",
    "#engine.execute('SELECT * FROM sqlite_master').fetchall()\n",
    "#'measurement' and 'station'"
   ]
  },
  {
   "cell_type": "code",
   "execution_count": 58,
   "metadata": {},
   "outputs": [
    {
     "name": "stdout",
     "output_type": "stream",
     "text": [
      "2020-07-20 13:26:09,981 INFO sqlalchemy.engine.base.Engine SELECT CAST('test plain returns' AS VARCHAR(60)) AS anon_1\n",
      "2020-07-20 13:26:09,983 INFO sqlalchemy.engine.base.Engine ()\n",
      "2020-07-20 13:26:09,987 INFO sqlalchemy.engine.base.Engine SELECT CAST('test unicode returns' AS VARCHAR(60)) AS anon_1\n",
      "2020-07-20 13:26:09,988 INFO sqlalchemy.engine.base.Engine ()\n"
     ]
    }
   ],
   "source": [
    "#Create an inspector and for engine (Not necessary, but, I prefer to view cleaner outputs for understanding metadata)\n",
    "Inspector = inspect(engine)"
   ]
  },
  {
   "cell_type": "code",
   "execution_count": 59,
   "metadata": {},
   "outputs": [
    {
     "name": "stdout",
     "output_type": "stream",
     "text": [
      "2020-07-20 13:26:10,648 INFO sqlalchemy.engine.base.Engine SELECT name FROM sqlite_master WHERE type='table' ORDER BY name\n",
      "2020-07-20 13:26:10,652 INFO sqlalchemy.engine.base.Engine ()\n",
      "2020-07-20 13:26:10,655 INFO sqlalchemy.engine.base.Engine PRAGMA main.table_info(\"measurement\")\n",
      "2020-07-20 13:26:10,656 INFO sqlalchemy.engine.base.Engine ()\n",
      "2020-07-20 13:26:10,660 INFO sqlalchemy.engine.base.Engine SELECT sql FROM  (SELECT * FROM sqlite_master UNION ALL   SELECT * FROM sqlite_temp_master) WHERE name = 'measurement' AND type = 'table'\n",
      "2020-07-20 13:26:10,662 INFO sqlalchemy.engine.base.Engine ()\n",
      "2020-07-20 13:26:10,664 INFO sqlalchemy.engine.base.Engine PRAGMA main.foreign_key_list(\"measurement\")\n",
      "2020-07-20 13:26:10,665 INFO sqlalchemy.engine.base.Engine ()\n",
      "2020-07-20 13:26:10,667 INFO sqlalchemy.engine.base.Engine PRAGMA temp.foreign_key_list(\"measurement\")\n",
      "2020-07-20 13:26:10,668 INFO sqlalchemy.engine.base.Engine ()\n",
      "2020-07-20 13:26:10,670 INFO sqlalchemy.engine.base.Engine SELECT sql FROM  (SELECT * FROM sqlite_master UNION ALL   SELECT * FROM sqlite_temp_master) WHERE name = 'measurement' AND type = 'table'\n",
      "2020-07-20 13:26:10,671 INFO sqlalchemy.engine.base.Engine ()\n",
      "2020-07-20 13:26:10,673 INFO sqlalchemy.engine.base.Engine PRAGMA main.index_list(\"measurement\")\n",
      "2020-07-20 13:26:10,674 INFO sqlalchemy.engine.base.Engine ()\n",
      "2020-07-20 13:26:10,675 INFO sqlalchemy.engine.base.Engine PRAGMA temp.index_list(\"measurement\")\n",
      "2020-07-20 13:26:10,683 INFO sqlalchemy.engine.base.Engine ()\n",
      "2020-07-20 13:26:10,693 INFO sqlalchemy.engine.base.Engine PRAGMA main.index_list(\"measurement\")\n",
      "2020-07-20 13:26:10,698 INFO sqlalchemy.engine.base.Engine ()\n",
      "2020-07-20 13:26:10,707 INFO sqlalchemy.engine.base.Engine PRAGMA temp.index_list(\"measurement\")\n",
      "2020-07-20 13:26:10,720 INFO sqlalchemy.engine.base.Engine ()\n",
      "2020-07-20 13:26:10,728 INFO sqlalchemy.engine.base.Engine SELECT sql FROM  (SELECT * FROM sqlite_master UNION ALL   SELECT * FROM sqlite_temp_master) WHERE name = 'measurement' AND type = 'table'\n",
      "2020-07-20 13:26:10,740 INFO sqlalchemy.engine.base.Engine ()\n",
      "2020-07-20 13:26:10,748 INFO sqlalchemy.engine.base.Engine PRAGMA main.table_info(\"station\")\n",
      "2020-07-20 13:26:10,759 INFO sqlalchemy.engine.base.Engine ()\n",
      "2020-07-20 13:26:10,768 INFO sqlalchemy.engine.base.Engine SELECT sql FROM  (SELECT * FROM sqlite_master UNION ALL   SELECT * FROM sqlite_temp_master) WHERE name = 'station' AND type = 'table'\n",
      "2020-07-20 13:26:10,778 INFO sqlalchemy.engine.base.Engine ()\n",
      "2020-07-20 13:26:10,790 INFO sqlalchemy.engine.base.Engine PRAGMA main.foreign_key_list(\"station\")\n",
      "2020-07-20 13:26:10,793 INFO sqlalchemy.engine.base.Engine ()\n",
      "2020-07-20 13:26:10,801 INFO sqlalchemy.engine.base.Engine PRAGMA temp.foreign_key_list(\"station\")\n",
      "2020-07-20 13:26:10,805 INFO sqlalchemy.engine.base.Engine ()\n",
      "2020-07-20 13:26:10,810 INFO sqlalchemy.engine.base.Engine SELECT sql FROM  (SELECT * FROM sqlite_master UNION ALL   SELECT * FROM sqlite_temp_master) WHERE name = 'station' AND type = 'table'\n",
      "2020-07-20 13:26:10,817 INFO sqlalchemy.engine.base.Engine ()\n",
      "2020-07-20 13:26:10,821 INFO sqlalchemy.engine.base.Engine PRAGMA main.index_list(\"station\")\n",
      "2020-07-20 13:26:10,824 INFO sqlalchemy.engine.base.Engine ()\n",
      "2020-07-20 13:26:10,826 INFO sqlalchemy.engine.base.Engine PRAGMA temp.index_list(\"station\")\n",
      "2020-07-20 13:26:10,827 INFO sqlalchemy.engine.base.Engine ()\n",
      "2020-07-20 13:26:10,831 INFO sqlalchemy.engine.base.Engine PRAGMA main.index_list(\"station\")\n",
      "2020-07-20 13:26:10,833 INFO sqlalchemy.engine.base.Engine ()\n",
      "2020-07-20 13:26:10,836 INFO sqlalchemy.engine.base.Engine PRAGMA temp.index_list(\"station\")\n",
      "2020-07-20 13:26:10,838 INFO sqlalchemy.engine.base.Engine ()\n",
      "2020-07-20 13:26:10,839 INFO sqlalchemy.engine.base.Engine SELECT sql FROM  (SELECT * FROM sqlite_master UNION ALL   SELECT * FROM sqlite_temp_master) WHERE name = 'station' AND type = 'table'\n",
      "2020-07-20 13:26:10,840 INFO sqlalchemy.engine.base.Engine ()\n",
      "2020-07-20 13:26:10,849 INFO sqlalchemy.engine.base.Engine SELECT name FROM sqlite_master WHERE type='table' ORDER BY name\n",
      "2020-07-20 13:26:10,850 INFO sqlalchemy.engine.base.Engine ()\n",
      "2020-07-20 13:26:10,853 INFO sqlalchemy.engine.base.Engine PRAGMA main.table_info(\"measurement\")\n",
      "2020-07-20 13:26:10,854 INFO sqlalchemy.engine.base.Engine ()\n",
      "2020-07-20 13:26:10,856 INFO sqlalchemy.engine.base.Engine PRAGMA main.table_info(\"station\")\n",
      "2020-07-20 13:26:10,858 INFO sqlalchemy.engine.base.Engine ()\n"
     ]
    },
    {
     "data": {
      "text/plain": [
       "[['Table name : measurement',\n",
       "  'id : INTEGER (primary_key)',\n",
       "  'station : TEXTNone',\n",
       "  'date : TEXTNone',\n",
       "  'prcp : FLOATNone',\n",
       "  'tobs : FLOATNone'],\n",
       " ['Table name : station',\n",
       "  'id : INTEGER (primary_key)',\n",
       "  'station : TEXTNone',\n",
       "  'name : TEXTNone',\n",
       "  'latitude : FLOATNone',\n",
       "  'longitude : FLOATNone',\n",
       "  'elevation : FLOATNone']]"
      ]
     },
     "execution_count": 59,
     "metadata": {},
     "output_type": "execute_result"
    }
   ],
   "source": [
    "# reflect an existing database into a new model\n",
    "Base = automap_base()\n",
    "# reflect the tables\n",
    "Base.prepare(engine, reflect=True)\n",
    "\n",
    "#To display table info\n",
    "#The below commands or the inspector\n",
    "#Base.metadata.tables\n",
    "#'measurement' and 'station'\n",
    "#To display schema for a Class (mapped table)\n",
    "#Base.classes.measurement.__dict__\n",
    "#Base.classes.station.__dict__\n",
    "\n",
    "#To display table info(A cleaner output using inspector)\n",
    "[[f\"Table name : {table}\"]+[f\"{col['name']} : {col['type']}{' (primary_key)' if col['primary_key']==1 else None}\" \\\n",
    "                            for col in Inspector.get_columns(table)] for table in Inspector.get_table_names()]\n",
    "\n"
   ]
  },
  {
   "cell_type": "code",
   "execution_count": 60,
   "metadata": {},
   "outputs": [
    {
     "data": {
      "text/plain": [
       "[mappingproxy({'__table__': Table('measurement', MetaData(bind=None), Column('id', INTEGER(), table=<measurement>, primary_key=True, nullable=False), Column('station', TEXT(), table=<measurement>), Column('date', TEXT(), table=<measurement>), Column('prcp', FLOAT(), table=<measurement>), Column('tobs', FLOAT(), table=<measurement>), schema=None),\n",
       "               '__module__': 'sqlalchemy.ext.automap',\n",
       "               '__doc__': None,\n",
       "               '_sa_class_manager': <ClassManager of <class 'sqlalchemy.ext.automap.measurement'> at 11db7c630>,\n",
       "               '__init__': <function __init__(self, **kwargs)>,\n",
       "               'id': <sqlalchemy.orm.attributes.InstrumentedAttribute at 0x11cccd8b0>,\n",
       "               'station': <sqlalchemy.orm.attributes.InstrumentedAttribute at 0x11cccdd10>,\n",
       "               'date': <sqlalchemy.orm.attributes.InstrumentedAttribute at 0x11dd9e7c0>,\n",
       "               'prcp': <sqlalchemy.orm.attributes.InstrumentedAttribute at 0x11dd9ef90>,\n",
       "               'tobs': <sqlalchemy.orm.attributes.InstrumentedAttribute at 0x11dd9e400>,\n",
       "               '__mapper__': <Mapper at 0x11cca9760; measurement>}),\n",
       " mappingproxy({'__table__': Table('station', MetaData(bind=None), Column('id', INTEGER(), table=<station>, primary_key=True, nullable=False), Column('station', TEXT(), table=<station>), Column('name', TEXT(), table=<station>), Column('latitude', FLOAT(), table=<station>), Column('longitude', FLOAT(), table=<station>), Column('elevation', FLOAT(), table=<station>), schema=None),\n",
       "               '__module__': 'sqlalchemy.ext.automap',\n",
       "               '__doc__': None,\n",
       "               '_sa_class_manager': <ClassManager of <class 'sqlalchemy.ext.automap.station'> at 11d3e4680>,\n",
       "               '__init__': <function __init__(self, **kwargs)>,\n",
       "               'id': <sqlalchemy.orm.attributes.InstrumentedAttribute at 0x11d0fa0e0>,\n",
       "               'station': <sqlalchemy.orm.attributes.InstrumentedAttribute at 0x11d0fa720>,\n",
       "               'name': <sqlalchemy.orm.attributes.InstrumentedAttribute at 0x11d0fa450>,\n",
       "               'latitude': <sqlalchemy.orm.attributes.InstrumentedAttribute at 0x11d0fa040>,\n",
       "               'longitude': <sqlalchemy.orm.attributes.InstrumentedAttribute at 0x11d0fa4a0>,\n",
       "               'elevation': <sqlalchemy.orm.attributes.InstrumentedAttribute at 0x11d36a4f0>,\n",
       "               '__mapper__': <Mapper at 0x11cca99d0; station>})]"
      ]
     },
     "execution_count": 60,
     "metadata": {},
     "output_type": "execute_result"
    }
   ],
   "source": [
    "# We can view all of the classes that automap found\n",
    "[Class.__dict__ for Class in Base.classes]"
   ]
  },
  {
   "cell_type": "code",
   "execution_count": 61,
   "metadata": {},
   "outputs": [],
   "source": [
    "# Save references to each table\n",
    "Measurement = Base.classes.measurement\n",
    "\n",
    "Station = Base.classes.station"
   ]
  },
  {
   "cell_type": "code",
   "execution_count": 62,
   "metadata": {},
   "outputs": [],
   "source": [
    "# Create our session (link) from Python to the DB\n",
    "session = Session(bind=engine)"
   ]
  },
  {
   "cell_type": "markdown",
   "metadata": {},
   "source": [
    "## Exploration of data in pandas"
   ]
  },
  {
   "cell_type": "code",
   "execution_count": 63,
   "metadata": {},
   "outputs": [
    {
     "name": "stdout",
     "output_type": "stream",
     "text": [
      "2020-07-20 13:31:33,352 INFO sqlalchemy.engine.base.Engine SELECT measurement.id, measurement.station, measurement.date, measurement.prcp, measurement.tobs \n",
      "FROM measurement\n",
      "2020-07-20 13:31:33,354 INFO sqlalchemy.engine.base.Engine ()\n",
      "2020-07-20 13:31:33,466 INFO sqlalchemy.engine.base.Engine SELECT station.id, station.station, station.name, station.latitude, station.longitude, station.elevation \n",
      "FROM station\n",
      "2020-07-20 13:31:33,467 INFO sqlalchemy.engine.base.Engine ()\n"
     ]
    }
   ],
   "source": [
    "DF_measurement = pd.read_sql(session.query(Measurement).statement, session.bind)\n",
    "DF_station = pd.read_sql(session.query(Station).statement, session.bind)"
   ]
  },
  {
   "cell_type": "code",
   "execution_count": 67,
   "metadata": {},
   "outputs": [
    {
     "data": {
      "text/html": [
       "<div>\n",
       "<style scoped>\n",
       "    .dataframe tbody tr th:only-of-type {\n",
       "        vertical-align: middle;\n",
       "    }\n",
       "\n",
       "    .dataframe tbody tr th {\n",
       "        vertical-align: top;\n",
       "    }\n",
       "\n",
       "    .dataframe thead th {\n",
       "        text-align: right;\n",
       "    }\n",
       "</style>\n",
       "<table border=\"1\" class=\"dataframe\">\n",
       "  <thead>\n",
       "    <tr style=\"text-align: right;\">\n",
       "      <th></th>\n",
       "      <th>id</th>\n",
       "      <th>station</th>\n",
       "      <th>date</th>\n",
       "      <th>prcp</th>\n",
       "      <th>tobs</th>\n",
       "    </tr>\n",
       "  </thead>\n",
       "  <tbody>\n",
       "    <tr>\n",
       "      <th>0</th>\n",
       "      <td>1</td>\n",
       "      <td>USC00519397</td>\n",
       "      <td>2010-01-01</td>\n",
       "      <td>0.08</td>\n",
       "      <td>65.0</td>\n",
       "    </tr>\n",
       "    <tr>\n",
       "      <th>1</th>\n",
       "      <td>2</td>\n",
       "      <td>USC00519397</td>\n",
       "      <td>2010-01-02</td>\n",
       "      <td>0.00</td>\n",
       "      <td>63.0</td>\n",
       "    </tr>\n",
       "    <tr>\n",
       "      <th>2</th>\n",
       "      <td>3</td>\n",
       "      <td>USC00519397</td>\n",
       "      <td>2010-01-03</td>\n",
       "      <td>0.00</td>\n",
       "      <td>74.0</td>\n",
       "    </tr>\n",
       "    <tr>\n",
       "      <th>3</th>\n",
       "      <td>4</td>\n",
       "      <td>USC00519397</td>\n",
       "      <td>2010-01-04</td>\n",
       "      <td>0.00</td>\n",
       "      <td>76.0</td>\n",
       "    </tr>\n",
       "    <tr>\n",
       "      <th>4</th>\n",
       "      <td>5</td>\n",
       "      <td>USC00519397</td>\n",
       "      <td>2010-01-06</td>\n",
       "      <td>NaN</td>\n",
       "      <td>73.0</td>\n",
       "    </tr>\n",
       "  </tbody>\n",
       "</table>\n",
       "</div>"
      ],
      "text/plain": [
       "   id      station        date  prcp  tobs\n",
       "0   1  USC00519397  2010-01-01  0.08  65.0\n",
       "1   2  USC00519397  2010-01-02  0.00  63.0\n",
       "2   3  USC00519397  2010-01-03  0.00  74.0\n",
       "3   4  USC00519397  2010-01-04  0.00  76.0\n",
       "4   5  USC00519397  2010-01-06   NaN  73.0"
      ]
     },
     "execution_count": 67,
     "metadata": {},
     "output_type": "execute_result"
    },
    {
     "data": {
      "text/html": [
       "<div>\n",
       "<style scoped>\n",
       "    .dataframe tbody tr th:only-of-type {\n",
       "        vertical-align: middle;\n",
       "    }\n",
       "\n",
       "    .dataframe tbody tr th {\n",
       "        vertical-align: top;\n",
       "    }\n",
       "\n",
       "    .dataframe thead th {\n",
       "        text-align: right;\n",
       "    }\n",
       "</style>\n",
       "<table border=\"1\" class=\"dataframe\">\n",
       "  <thead>\n",
       "    <tr style=\"text-align: right;\">\n",
       "      <th></th>\n",
       "      <th>id</th>\n",
       "      <th>station</th>\n",
       "      <th>name</th>\n",
       "      <th>latitude</th>\n",
       "      <th>longitude</th>\n",
       "      <th>elevation</th>\n",
       "    </tr>\n",
       "  </thead>\n",
       "  <tbody>\n",
       "    <tr>\n",
       "      <th>0</th>\n",
       "      <td>1</td>\n",
       "      <td>USC00519397</td>\n",
       "      <td>WAIKIKI 717.2, HI US</td>\n",
       "      <td>21.2716</td>\n",
       "      <td>-157.8168</td>\n",
       "      <td>3.0</td>\n",
       "    </tr>\n",
       "    <tr>\n",
       "      <th>1</th>\n",
       "      <td>2</td>\n",
       "      <td>USC00513117</td>\n",
       "      <td>KANEOHE 838.1, HI US</td>\n",
       "      <td>21.4234</td>\n",
       "      <td>-157.8015</td>\n",
       "      <td>14.6</td>\n",
       "    </tr>\n",
       "    <tr>\n",
       "      <th>2</th>\n",
       "      <td>3</td>\n",
       "      <td>USC00514830</td>\n",
       "      <td>KUALOA RANCH HEADQUARTERS 886.9, HI US</td>\n",
       "      <td>21.5213</td>\n",
       "      <td>-157.8374</td>\n",
       "      <td>7.0</td>\n",
       "    </tr>\n",
       "    <tr>\n",
       "      <th>3</th>\n",
       "      <td>4</td>\n",
       "      <td>USC00517948</td>\n",
       "      <td>PEARL CITY, HI US</td>\n",
       "      <td>21.3934</td>\n",
       "      <td>-157.9751</td>\n",
       "      <td>11.9</td>\n",
       "    </tr>\n",
       "    <tr>\n",
       "      <th>4</th>\n",
       "      <td>5</td>\n",
       "      <td>USC00518838</td>\n",
       "      <td>UPPER WAHIAWA 874.3, HI US</td>\n",
       "      <td>21.4992</td>\n",
       "      <td>-158.0111</td>\n",
       "      <td>306.6</td>\n",
       "    </tr>\n",
       "  </tbody>\n",
       "</table>\n",
       "</div>"
      ],
      "text/plain": [
       "   id      station                                    name  latitude  \\\n",
       "0   1  USC00519397                    WAIKIKI 717.2, HI US   21.2716   \n",
       "1   2  USC00513117                    KANEOHE 838.1, HI US   21.4234   \n",
       "2   3  USC00514830  KUALOA RANCH HEADQUARTERS 886.9, HI US   21.5213   \n",
       "3   4  USC00517948                       PEARL CITY, HI US   21.3934   \n",
       "4   5  USC00518838              UPPER WAHIAWA 874.3, HI US   21.4992   \n",
       "\n",
       "   longitude  elevation  \n",
       "0  -157.8168        3.0  \n",
       "1  -157.8015       14.6  \n",
       "2  -157.8374        7.0  \n",
       "3  -157.9751       11.9  \n",
       "4  -158.0111      306.6  "
      ]
     },
     "execution_count": 67,
     "metadata": {},
     "output_type": "execute_result"
    }
   ],
   "source": [
    "DF_measurement.head()\n",
    "DF_station.head()"
   ]
  },
  {
   "cell_type": "markdown",
   "metadata": {},
   "source": [
    "# Exploratory Climate Analysis"
   ]
  },
  {
   "cell_type": "code",
   "execution_count": 230,
   "metadata": {},
   "outputs": [
    {
     "name": "stdout",
     "output_type": "stream",
     "text": [
      "2020-07-20 16:19:55,800 INFO sqlalchemy.engine.base.Engine SELECT measurement.date AS measurement_date \n",
      "FROM measurement ORDER BY measurement.date DESC\n",
      " LIMIT ? OFFSET ?\n",
      "2020-07-20 16:19:55,802 INFO sqlalchemy.engine.base.Engine (1, 0)\n",
      "2020-07-20 16:19:55,809 INFO sqlalchemy.engine.base.Engine SELECT measurement.date AS measurement_date, measurement.prcp AS measurement_prcp \n",
      "FROM measurement \n",
      "WHERE measurement.date >= ? ORDER BY measurement.date\n",
      "2020-07-20 16:19:55,811 INFO sqlalchemy.engine.base.Engine ('2016-08-22 00:00:00.000000',)\n"
     ]
    }
   ],
   "source": [
    "# Design a query to retrieve the last 12 months of precipitation data and plot the results\n",
    "\n",
    "\n",
    "# Calculate the date 1 year ago from the last data point in the database\n",
    "#start date:- '2010-01-01'\n",
    "#last date:- '2017-08-23'\n",
    "last_date = session.query(Measurement.date).order_by(Measurement.date.desc()).limit(1).scalar()\n",
    "\n",
    "#Last one year mark in the dataset\n",
    "One_year_mark = dt.datetime.strptime(last_date, \"%Y-%m-%d\")-dt.timedelta(days=366)\n",
    "\n",
    "# Perform a query to retrieve the data and precipitation scores\n",
    "last_one_year_prcp = session.query(Measurement.date, Measurement.prcp).filter(\n",
    "    (Measurement.date >= One_year_mark)).order_by(Measurement.date).all()\n",
    "\n",
    "# Save the query results as a Pandas DataFrame and set the index to the date column\n",
    "last_one_year_prcp_DF = pd.DataFrame(last_one_year_prcp, columns=['Date','precipitation'])\n",
    "last_one_year_prcp_DF.set_index('Date', inplace=True)\n",
    "#There are 208 NUll prcp values\n",
    "\n",
    "# Sort the dataframe by date\n",
    "last_one_year_prcp_DF.sort_index(inplace=True)\n",
    "\n",
    "\n",
    "# Use Pandas Plotting with Matplotlib to plot the data\n"
   ]
  },
  {
   "cell_type": "code",
   "execution_count": null,
   "metadata": {},
   "outputs": [
    {
     "data": {
      "text/plain": [
       "Text(0, 0.5, 'Inches')"
      ]
     },
     "execution_count": 258,
     "metadata": {},
     "output_type": "execute_result"
    }
   ],
   "source": [
    "fig, ax = plt.subplots(figsize=(15,6))\n",
    "_=last_one_year_prcp_DF.plot(ax=ax)\n",
    "\n",
    "#Annotation and labelling\n",
    "xticks = np.arange(0,len(last_one_year_prcp_DF)+1,250)\n",
    "xticklabels = last_one_year_prcp_DF.index[xticks].to_list()\n",
    "plt.ylabel(\"Inches\")\n",
    "_=plt.suptitle(f\"Precipitation for the last one year: from {last_one_year_prcp_DF.index.min()} to {last_one_year_prcp_DF.index.max()}\", fontsize=20, weight='bold', y=1.06)\n",
    "_=plt.xlim((-50,len(last_one_year_prcp_DF)+10))\n",
    "_=plt.xticks(xticks, xticklabels, rotation=90)\n",
    "_=plt.tight_layout()\n",
    "_= plt.savefig('../Images/Last_one_year_precipitation.png', bbox_inches = \"tight\" )"
   ]
  },
  {
   "cell_type": "code",
   "execution_count": 233,
   "metadata": {},
   "outputs": [
    {
     "data": {
      "text/plain": [
       "'2016-08-23'"
      ]
     },
     "execution_count": 233,
     "metadata": {},
     "output_type": "execute_result"
    },
    {
     "data": {
      "text/plain": [
       "'2017-08-23'"
      ]
     },
     "execution_count": 233,
     "metadata": {},
     "output_type": "execute_result"
    }
   ],
   "source": [
    "last_one_year_prcp_DF.index.min()\n",
    "last_one_year_prcp_DF.index.max()"
   ]
  },
  {
   "cell_type": "code",
   "execution_count": 209,
   "metadata": {},
   "outputs": [
    {
     "data": {
      "text/plain": [
       "2230"
      ]
     },
     "execution_count": 209,
     "metadata": {},
     "output_type": "execute_result"
    }
   ],
   "source": [
    "len(last_one_year_prcp_DF)"
   ]
  },
  {
   "cell_type": "code",
   "execution_count": 201,
   "metadata": {},
   "outputs": [
    {
     "data": {
      "text/plain": [
       "11"
      ]
     },
     "execution_count": 201,
     "metadata": {},
     "output_type": "execute_result"
    }
   ],
   "source": [
    "len()\n"
   ]
  },
  {
   "cell_type": "code",
   "execution_count": null,
   "metadata": {},
   "outputs": [],
   "source": [
    "# Use Pandas to calcualte the summary statistics for the precipitation data"
   ]
  },
  {
   "cell_type": "code",
   "execution_count": null,
   "metadata": {},
   "outputs": [],
   "source": [
    "# Design a query to show how many stations are available in this dataset?\n"
   ]
  },
  {
   "cell_type": "code",
   "execution_count": null,
   "metadata": {},
   "outputs": [],
   "source": [
    "# What are the most active stations? (i.e. what stations have the most rows)?\n",
    "# List the stations and the counts in descending order.\n"
   ]
  },
  {
   "cell_type": "code",
   "execution_count": null,
   "metadata": {},
   "outputs": [],
   "source": [
    "# Using the station id from the previous query, calculate the lowest temperature recorded, \n",
    "# highest temperature recorded, and average temperature of the most active station?\n"
   ]
  },
  {
   "cell_type": "code",
   "execution_count": null,
   "metadata": {},
   "outputs": [],
   "source": [
    "# Choose the station with the highest number of temperature observations.\n",
    "# Query the last 12 months of temperature observation data for this station and plot the results as a histogram\n"
   ]
  },
  {
   "cell_type": "markdown",
   "metadata": {},
   "source": [
    "## Bonus Challenge Assignment"
   ]
  },
  {
   "cell_type": "code",
   "execution_count": null,
   "metadata": {},
   "outputs": [],
   "source": [
    "# This function called `calc_temps` will accept start date and end date in the format '%Y-%m-%d' \n",
    "# and return the minimum, average, and maximum temperatures for that range of dates\n",
    "def calc_temps(start_date, end_date):\n",
    "    \"\"\"TMIN, TAVG, and TMAX for a list of dates.\n",
    "    \n",
    "    Args:\n",
    "        start_date (string): A date string in the format %Y-%m-%d\n",
    "        end_date (string): A date string in the format %Y-%m-%d\n",
    "        \n",
    "    Returns:\n",
    "        TMIN, TAVE, and TMAX\n",
    "    \"\"\"\n",
    "    \n",
    "    return session.query(func.min(Measurement.tobs), func.avg(Measurement.tobs), func.max(Measurement.tobs)).\\\n",
    "        filter(Measurement.date >= start_date).filter(Measurement.date <= end_date).all()\n",
    "\n",
    "# function usage example\n",
    "print(calc_temps('2012-02-28', '2012-03-05'))"
   ]
  },
  {
   "cell_type": "code",
   "execution_count": null,
   "metadata": {},
   "outputs": [],
   "source": [
    "# Use your previous function `calc_temps` to calculate the tmin, tavg, and tmax \n",
    "# for your trip using the previous year's data for those same dates.\n"
   ]
  },
  {
   "cell_type": "code",
   "execution_count": null,
   "metadata": {},
   "outputs": [],
   "source": [
    "# Plot the results from your previous query as a bar chart. \n",
    "# Use \"Trip Avg Temp\" as your Title\n",
    "# Use the average temperature for the y value\n",
    "# Use the peak-to-peak (tmax-tmin) value as the y error bar (yerr)\n"
   ]
  },
  {
   "cell_type": "code",
   "execution_count": null,
   "metadata": {},
   "outputs": [],
   "source": [
    "# Calculate the total amount of rainfall per weather station for your trip dates using the previous year's matching dates.\n",
    "# Sort this in descending order by precipitation amount and list the station, name, latitude, longitude, and elevation\n",
    "\n"
   ]
  },
  {
   "cell_type": "code",
   "execution_count": null,
   "metadata": {},
   "outputs": [],
   "source": [
    "# Create a query that will calculate the daily normals \n",
    "# (i.e. the averages for tmin, tmax, and tavg for all historic data matching a specific month and day)\n",
    "\n",
    "def daily_normals(date):\n",
    "    \"\"\"Daily Normals.\n",
    "    \n",
    "    Args:\n",
    "        date (str): A date string in the format '%m-%d'\n",
    "        \n",
    "    Returns:\n",
    "        A list of tuples containing the daily normals, tmin, tavg, and tmax\n",
    "    \n",
    "    \"\"\"\n",
    "    \n",
    "    sel = [func.min(Measurement.tobs), func.avg(Measurement.tobs), func.max(Measurement.tobs)]\n",
    "    return session.query(*sel).filter(func.strftime(\"%m-%d\", Measurement.date) == date).all()\n",
    "    \n",
    "daily_normals(\"01-01\")"
   ]
  },
  {
   "cell_type": "code",
   "execution_count": null,
   "metadata": {},
   "outputs": [],
   "source": [
    "# calculate the daily normals for your trip\n",
    "# push each tuple of calculations into a list called `normals`\n",
    "\n",
    "# Set the start and end date of the trip\n",
    "\n",
    "# Use the start and end date to create a range of dates\n",
    "\n",
    "# Stip off the year and save a list of %m-%d strings\n",
    "\n",
    "# Loop through the list of %m-%d strings and calculate the normals for each date\n"
   ]
  },
  {
   "cell_type": "code",
   "execution_count": null,
   "metadata": {},
   "outputs": [],
   "source": [
    "# Load the previous query results into a Pandas DataFrame and add the `trip_dates` range as the `date` index\n"
   ]
  },
  {
   "cell_type": "code",
   "execution_count": null,
   "metadata": {},
   "outputs": [],
   "source": [
    "# Plot the daily normals as an area plot with `stacked=False`\n"
   ]
  }
 ],
 "metadata": {
  "kernel_info": {
   "name": "python3"
  },
  "kernelspec": {
   "display_name": "Python 3",
   "language": "python",
   "name": "python3"
  },
  "language_info": {
   "codemirror_mode": {
    "name": "ipython",
    "version": 3
   },
   "file_extension": ".py",
   "mimetype": "text/x-python",
   "name": "python",
   "nbconvert_exporter": "python",
   "pygments_lexer": "ipython3",
   "version": "3.8.1"
  },
  "nteract": {
   "version": "0.12.3"
  },
  "varInspector": {
   "cols": {
    "lenName": 16,
    "lenType": 16,
    "lenVar": 40
   },
   "kernels_config": {
    "python": {
     "delete_cmd_postfix": "",
     "delete_cmd_prefix": "del ",
     "library": "var_list.py",
     "varRefreshCmd": "print(var_dic_list())"
    },
    "r": {
     "delete_cmd_postfix": ") ",
     "delete_cmd_prefix": "rm(",
     "library": "var_list.r",
     "varRefreshCmd": "cat(var_dic_list()) "
    }
   },
   "types_to_exclude": [
    "module",
    "function",
    "builtin_function_or_method",
    "instance",
    "_Feature"
   ],
   "window_display": false
  }
 },
 "nbformat": 4,
 "nbformat_minor": 2
}
